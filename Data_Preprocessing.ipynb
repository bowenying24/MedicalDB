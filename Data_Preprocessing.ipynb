{
 "cells": [
  {
   "cell_type": "code",
   "execution_count": 6,
   "id": "85835f0f",
   "metadata": {},
   "outputs": [],
   "source": [
    "import pandas as pd\n",
    "import numpy as np\n",
    "import statistics\n",
    "import math\n",
    "import os"
   ]
  },
  {
   "cell_type": "code",
   "execution_count": 7,
   "id": "db7ff662",
   "metadata": {},
   "outputs": [],
   "source": [
    "# Set working directory\n",
    "os.chdir('C:/Users/sniderc/Desktop/CIS5500/Project/')"
   ]
  },
  {
   "cell_type": "markdown",
   "id": "962d540f",
   "metadata": {},
   "source": [
    "# Load Data"
   ]
  },
  {
   "cell_type": "code",
   "execution_count": 9,
   "id": "2695fa17",
   "metadata": {
    "scrolled": true
   },
   "outputs": [
    {
     "name": "stderr",
     "output_type": "stream",
     "text": [
      "C:\\Users\\sniderc\\AppData\\Local\\Temp\\ipykernel_222648\\3460186906.py:4: FutureWarning: The frame.append method is deprecated and will be removed from pandas in a future version. Use pandas.concat instead.\n",
      "  beneficiary = beneficiary_test.append(beneficiary_train)\n",
      "C:\\Users\\sniderc\\AppData\\Local\\Temp\\ipykernel_222648\\3460186906.py:10: FutureWarning: The frame.append method is deprecated and will be removed from pandas in a future version. Use pandas.concat instead.\n",
      "  inpatient = inpatient_test.append(inpatient_train)\n",
      "C:\\Users\\sniderc\\AppData\\Local\\Temp\\ipykernel_222648\\3460186906.py:16: FutureWarning: The frame.append method is deprecated and will be removed from pandas in a future version. Use pandas.concat instead.\n",
      "  outpatient = outpatient_test.append(outpatient_train)\n"
     ]
    }
   ],
   "source": [
    "beneficiary_test = pd.read_csv('Test_Beneficiarydata-1542969243754.csv')\n",
    "beneficiary_train = pd.read_csv('Train_Beneficiarydata-1542865627584.csv')\n",
    "\n",
    "beneficiary = beneficiary_test.append(beneficiary_train)\n",
    "\n",
    "inpatient_test = pd.read_csv('Test_Inpatientdata-1542969243754.csv')\n",
    "inpatient_train = pd.read_csv('Train_Inpatientdata-1542865627584.csv')\n",
    "\n",
    "# Combine test and training sets into one table\n",
    "inpatient = inpatient_test.append(inpatient_train)\n",
    "\n",
    "outpatient_test = pd.read_csv('Test_Outpatientdata-1542969243754.csv')\n",
    "outpatient_train = pd.read_csv('Train_Outpatientdata-1542865627584.csv')\n",
    "\n",
    "# Combine test and training sets into one table\n",
    "outpatient = outpatient_test.append(outpatient_train)\n",
    "\n",
    "provider = pd.read_csv('Train-1542865627584.csv')\n"
   ]
  },
  {
   "cell_type": "code",
   "execution_count": 10,
   "id": "e249a860",
   "metadata": {},
   "outputs": [],
   "source": [
    "# Read in additional data sources (diagnosis and procedure files from CMS)\n",
    "diagnosis = pd.read_excel('Diagnosis.xlsx')\n",
    "\n",
    "procedure = pd.read_excel('Procedure.xlsx')"
   ]
  },
  {
   "cell_type": "markdown",
   "id": "0be1928d",
   "metadata": {},
   "source": [
    "# Patient Table"
   ]
  },
  {
   "cell_type": "code",
   "execution_count": 136,
   "id": "959eb586",
   "metadata": {},
   "outputs": [
    {
     "name": "stdout",
     "output_type": "stream",
     "text": [
      "Number of Rows: 148072\n",
      "Unique Patients: 148072\n"
     ]
    }
   ],
   "source": [
    "# Remove duplicate entries (from combining training and test datasets)\n",
    "beneficiary.drop_duplicates(keep='first', inplace=True)\n",
    "\n",
    "# Check for Unique Primary Key\n",
    "print(\"Number of Rows: \" + str(len(beneficiary)))\n",
    "print(\"Unique Patients: \" + str(beneficiary.BeneID.nunique()))"
   ]
  },
  {
   "cell_type": "code",
   "execution_count": 137,
   "id": "5a6ec1ae",
   "metadata": {},
   "outputs": [],
   "source": [
    "beneficiary[['BeneID','DOB','DOD','Gender','Race','State','County']].to_csv('Patient.csv',sep=',',index=False)"
   ]
  },
  {
   "cell_type": "markdown",
   "id": "460a1522",
   "metadata": {},
   "source": [
    "# Comorbidity"
   ]
  },
  {
   "cell_type": "code",
   "execution_count": 140,
   "id": "8ffca30b",
   "metadata": {},
   "outputs": [
    {
     "data": {
      "text/plain": [
       "Comorbidity\n",
       "Alzheimers Disease                       48298\n",
       "Cancer                                   17383\n",
       "Chronic Kidney Disease                   45020\n",
       "Chronic Obstructive Pulmonary Disease    34145\n",
       "Depression                               51596\n",
       "Diabetes                                 87663\n",
       "Heart Failure                            71892\n",
       "Ischemic Heart Disease                   98811\n",
       "Osteoporosis                             40050\n",
       "Rheumatoid Arthritis                     37214\n",
       "dtype: int64"
      ]
     },
     "execution_count": 140,
     "metadata": {},
     "output_type": "execute_result"
    }
   ],
   "source": [
    "# Reformat from wide to long\n",
    "\n",
    "comorbidity_long = pd.melt(beneficiary, id_vars='BeneID',\n",
    "        value_vars=['ChronicCond_Alzheimer', 'ChronicCond_Heartfailure', 'ChronicCond_KidneyDisease', 'ChronicCond_Cancer',\n",
    "                    'ChronicCond_ObstrPulmonary', 'ChronicCond_Depression', 'ChronicCond_Diabetes', \n",
    "                    'ChronicCond_IschemicHeart', 'ChronicCond_Osteoporasis', 'ChronicCond_rheumatoidarthritis',],\n",
    "       var_name='ChronicCondition', value_name='ConditionValue')\n",
    "\n",
    "comorbidity_long['Comorbidity'] = np.where((comorbidity_long.ChronicCondition=='ChronicCond_Alzheimer') & \n",
    "                                         (comorbidity_long.ConditionValue==1), 'Alzheimers Disease', \\\n",
    "                                np.where((comorbidity_long.ChronicCondition=='ChronicCond_Heartfailure') & \n",
    "                                         (comorbidity_long.ConditionValue==1), 'Heart Failure', \\\n",
    "                                np.where((comorbidity_long.ChronicCondition=='ChronicCond_KidneyDisease') & \n",
    "                                         (comorbidity_long.ConditionValue==1), 'Chronic Kidney Disease', \\\n",
    "                                np.where((comorbidity_long.ChronicCondition=='ChronicCond_KidneyDisease') & \n",
    "                                         (comorbidity_long.ConditionValue==1), 'Chronic Kidney Disease', \\\n",
    "                                np.where((comorbidity_long.ChronicCondition=='ChronicCond_Cancer') & \n",
    "                                         (comorbidity_long.ConditionValue==1), 'Cancer', \\\n",
    "                                np.where((comorbidity_long.ChronicCondition=='ChronicCond_ObstrPulmonary') & \n",
    "                                         (comorbidity_long.ConditionValue==1), 'Chronic Obstructive Pulmonary Disease', \\\n",
    "                                np.where((comorbidity_long.ChronicCondition=='ChronicCond_Depression') & \n",
    "                                         (comorbidity_long.ConditionValue==1), 'Depression', \\\n",
    "                                np.where((comorbidity_long.ChronicCondition=='ChronicCond_Diabetes') & \n",
    "                                         (comorbidity_long.ConditionValue==1), 'Diabetes', \\\n",
    "                                np.where((comorbidity_long.ChronicCondition=='ChronicCond_IschemicHeart') & \n",
    "                                         (comorbidity_long.ConditionValue==1), 'Ischemic Heart Disease', \\\n",
    "                                np.where((comorbidity_long.ChronicCondition=='ChronicCond_Osteoporasis') & \n",
    "                                         (comorbidity_long.ConditionValue==1), 'Osteoporosis', \\\n",
    "                                np.where((comorbidity_long.ChronicCondition=='ChronicCond_rheumatoidarthritis') & \n",
    "                                         (comorbidity_long.ConditionValue==1), 'Rheumatoid Arthritis', \\\n",
    "                                         'None')))))))))))\n",
    "\n",
    "comorbidity = comorbidity_long[comorbidity_long.Comorbidity!='None'][['BeneID','Comorbidity']]\n",
    "\n",
    "comorbidity.groupby('Comorbidity').size()"
   ]
  },
  {
   "cell_type": "code",
   "execution_count": 144,
   "id": "45c623bb",
   "metadata": {},
   "outputs": [
    {
     "name": "stdout",
     "output_type": "stream",
     "text": [
      "Number of Rows: 532072\n",
      "Unique Patient-Comorbidities: 532072\n"
     ]
    }
   ],
   "source": [
    "# Check for Unique Primary Key\n",
    "print(\"Number of Rows: \" + str(len(comorbidity)))\n",
    "print(\"Unique Patient-Comorbidities: \" + str(len(comorbidity[['BeneID','Comorbidity']].drop_duplicates())))"
   ]
  },
  {
   "cell_type": "code",
   "execution_count": 145,
   "id": "ed78a788",
   "metadata": {},
   "outputs": [],
   "source": [
    "comorbidity.to_csv('Comorbidity.csv',sep=',',index=False)"
   ]
  },
  {
   "cell_type": "markdown",
   "id": "a0322f39",
   "metadata": {},
   "source": [
    "# Provider"
   ]
  },
  {
   "cell_type": "code",
   "execution_count": 147,
   "id": "70a7f115",
   "metadata": {},
   "outputs": [
    {
     "data": {
      "text/html": [
       "<div>\n",
       "<style scoped>\n",
       "    .dataframe tbody tr th:only-of-type {\n",
       "        vertical-align: middle;\n",
       "    }\n",
       "\n",
       "    .dataframe tbody tr th {\n",
       "        vertical-align: top;\n",
       "    }\n",
       "\n",
       "    .dataframe thead th {\n",
       "        text-align: right;\n",
       "    }\n",
       "</style>\n",
       "<table border=\"1\" class=\"dataframe\">\n",
       "  <thead>\n",
       "    <tr style=\"text-align: right;\">\n",
       "      <th></th>\n",
       "      <th>ProviderID</th>\n",
       "      <th>PotentialFraud</th>\n",
       "    </tr>\n",
       "  </thead>\n",
       "  <tbody>\n",
       "    <tr>\n",
       "      <th>0</th>\n",
       "      <td>PRV51001</td>\n",
       "      <td>No</td>\n",
       "    </tr>\n",
       "    <tr>\n",
       "      <th>1</th>\n",
       "      <td>PRV51003</td>\n",
       "      <td>Yes</td>\n",
       "    </tr>\n",
       "    <tr>\n",
       "      <th>2</th>\n",
       "      <td>PRV51004</td>\n",
       "      <td>No</td>\n",
       "    </tr>\n",
       "    <tr>\n",
       "      <th>3</th>\n",
       "      <td>PRV51005</td>\n",
       "      <td>Yes</td>\n",
       "    </tr>\n",
       "    <tr>\n",
       "      <th>4</th>\n",
       "      <td>PRV51007</td>\n",
       "      <td>No</td>\n",
       "    </tr>\n",
       "  </tbody>\n",
       "</table>\n",
       "</div>"
      ],
      "text/plain": [
       "  ProviderID PotentialFraud\n",
       "0   PRV51001             No\n",
       "1   PRV51003            Yes\n",
       "2   PRV51004             No\n",
       "3   PRV51005            Yes\n",
       "4   PRV51007             No"
      ]
     },
     "execution_count": 147,
     "metadata": {},
     "output_type": "execute_result"
    }
   ],
   "source": [
    "# Rename primary key\n",
    "provider.rename(columns={'Provider':'ProviderID'}, inplace=True)\n",
    "provider.head()"
   ]
  },
  {
   "cell_type": "code",
   "execution_count": 174,
   "id": "fc5a73b6",
   "metadata": {},
   "outputs": [
    {
     "name": "stderr",
     "output_type": "stream",
     "text": [
      "C:\\Users\\sniderc\\AppData\\Local\\Temp\\ipykernel_222648\\2563541899.py:2: FutureWarning: The series.append method is deprecated and will be removed from pandas in a future version. Use pandas.concat instead.\n",
      "  encounter_providers = pd.DataFrame(outpatient.Provider.append(inpatient.Provider).unique(), columns=['ProviderID'])\n",
      "C:\\Users\\sniderc\\AppData\\Local\\Temp\\ipykernel_222648\\2563541899.py:6: FutureWarning: The frame.append method is deprecated and will be removed from pandas in a future version. Use pandas.concat instead.\n",
      "  provider = provider.append(encounter_providers).drop_duplicates(subset=['ProviderID'], keep='first')\n"
     ]
    }
   ],
   "source": [
    "# Add providers from Encounters who were not included in the Provider Fraud file\n",
    "encounter_providers = pd.DataFrame(outpatient.Provider.append(inpatient.Provider).unique(), columns=['ProviderID'])\n",
    "\n",
    "encounter_providers['PotentialFraud'] = 'Unknown'\n",
    "\n",
    "provider = provider.append(encounter_providers).drop_duplicates(subset=['ProviderID'], keep='first')\n"
   ]
  },
  {
   "cell_type": "code",
   "execution_count": 175,
   "id": "caf9e0df",
   "metadata": {},
   "outputs": [
    {
     "name": "stdout",
     "output_type": "stream",
     "text": [
      "Number of Rows: 6763\n",
      "Unique Providers: 6763\n"
     ]
    }
   ],
   "source": [
    "# Check for Unique Primary Key\n",
    "print(\"Number of Rows: \" + str(len(provider)))\n",
    "print(\"Unique Providers: \" + str(provider.ProviderID.nunique()))"
   ]
  },
  {
   "cell_type": "code",
   "execution_count": 177,
   "id": "29c5ddc8",
   "metadata": {},
   "outputs": [],
   "source": [
    "provider.to_csv('Provider.csv',sep=',',index=False)"
   ]
  },
  {
   "cell_type": "markdown",
   "id": "9189e565",
   "metadata": {},
   "source": [
    "# Encounter"
   ]
  },
  {
   "cell_type": "code",
   "execution_count": 93,
   "id": "4251575a",
   "metadata": {},
   "outputs": [
    {
     "data": {
      "text/plain": [
       "Index(['BeneID', 'ClaimID', 'ClaimStartDt', 'ClaimEndDt', 'Provider',\n",
       "       'InscClaimAmtReimbursed', 'AttendingPhysician', 'OperatingPhysician',\n",
       "       'OtherPhysician', 'ClmDiagnosisCode_1', 'ClmDiagnosisCode_2',\n",
       "       'ClmDiagnosisCode_3', 'ClmDiagnosisCode_4', 'ClmDiagnosisCode_5',\n",
       "       'ClmDiagnosisCode_6', 'ClmDiagnosisCode_7', 'ClmDiagnosisCode_8',\n",
       "       'ClmDiagnosisCode_9', 'ClmDiagnosisCode_10', 'ClmProcedureCode_1',\n",
       "       'ClmProcedureCode_2', 'ClmProcedureCode_3', 'ClmProcedureCode_4',\n",
       "       'ClmProcedureCode_5', 'ClmProcedureCode_6', 'DeductibleAmtPaid',\n",
       "       'ClmAdmitDiagnosisCode'],\n",
       "      dtype='object')"
      ]
     },
     "execution_count": 93,
     "metadata": {},
     "output_type": "execute_result"
    }
   ],
   "source": [
    "outpatient.columns"
   ]
  },
  {
   "cell_type": "code",
   "execution_count": 101,
   "id": "7e476e15",
   "metadata": {},
   "outputs": [
    {
     "name": "stderr",
     "output_type": "stream",
     "text": [
      "C:\\Users\\sniderc\\AppData\\Local\\Temp\\ipykernel_222648\\403598109.py:7: FutureWarning: The frame.append method is deprecated and will be removed from pandas in a future version. Use pandas.concat instead.\n",
      "  encounter = outpatient[['BeneID', 'ClaimID', 'Type', 'ClaimStartDt', 'ClaimEndDt', 'Provider',\n"
     ]
    },
    {
     "data": {
      "text/html": [
       "<div>\n",
       "<style scoped>\n",
       "    .dataframe tbody tr th:only-of-type {\n",
       "        vertical-align: middle;\n",
       "    }\n",
       "\n",
       "    .dataframe tbody tr th {\n",
       "        vertical-align: top;\n",
       "    }\n",
       "\n",
       "    .dataframe thead th {\n",
       "        text-align: right;\n",
       "    }\n",
       "</style>\n",
       "<table border=\"1\" class=\"dataframe\">\n",
       "  <thead>\n",
       "    <tr style=\"text-align: right;\">\n",
       "      <th></th>\n",
       "      <th>BeneID</th>\n",
       "      <th>ClaimID</th>\n",
       "      <th>Type</th>\n",
       "      <th>ClaimStartDate</th>\n",
       "      <th>ClaimEndDate</th>\n",
       "      <th>ProviderID</th>\n",
       "      <th>AmountReimbursed</th>\n",
       "      <th>Deductible</th>\n",
       "    </tr>\n",
       "  </thead>\n",
       "  <tbody>\n",
       "    <tr>\n",
       "      <th>0</th>\n",
       "      <td>BENE11001</td>\n",
       "      <td>CLM392397</td>\n",
       "      <td>Outpatient</td>\n",
       "      <td>2009-06-02</td>\n",
       "      <td>2009-06-02</td>\n",
       "      <td>PRV55962</td>\n",
       "      <td>30</td>\n",
       "      <td>0.0</td>\n",
       "    </tr>\n",
       "    <tr>\n",
       "      <th>1</th>\n",
       "      <td>BENE11001</td>\n",
       "      <td>CLM430760</td>\n",
       "      <td>Outpatient</td>\n",
       "      <td>2009-06-23</td>\n",
       "      <td>2009-06-23</td>\n",
       "      <td>PRV56112</td>\n",
       "      <td>30</td>\n",
       "      <td>0.0</td>\n",
       "    </tr>\n",
       "    <tr>\n",
       "      <th>2</th>\n",
       "      <td>BENE11007</td>\n",
       "      <td>CLM233081</td>\n",
       "      <td>Outpatient</td>\n",
       "      <td>2009-03-07</td>\n",
       "      <td>2009-03-07</td>\n",
       "      <td>PRV56979</td>\n",
       "      <td>200</td>\n",
       "      <td>0.0</td>\n",
       "    </tr>\n",
       "    <tr>\n",
       "      <th>3</th>\n",
       "      <td>BENE11007</td>\n",
       "      <td>CLM496381</td>\n",
       "      <td>Outpatient</td>\n",
       "      <td>2009-07-29</td>\n",
       "      <td>2009-07-29</td>\n",
       "      <td>PRV56573</td>\n",
       "      <td>10</td>\n",
       "      <td>0.0</td>\n",
       "    </tr>\n",
       "    <tr>\n",
       "      <th>4</th>\n",
       "      <td>BENE11007</td>\n",
       "      <td>CLM521391</td>\n",
       "      <td>Outpatient</td>\n",
       "      <td>2009-08-12</td>\n",
       "      <td>2009-08-12</td>\n",
       "      <td>PRV56573</td>\n",
       "      <td>10</td>\n",
       "      <td>0.0</td>\n",
       "    </tr>\n",
       "  </tbody>\n",
       "</table>\n",
       "</div>"
      ],
      "text/plain": [
       "      BeneID    ClaimID        Type ClaimStartDate ClaimEndDate ProviderID  \\\n",
       "0  BENE11001  CLM392397  Outpatient     2009-06-02   2009-06-02   PRV55962   \n",
       "1  BENE11001  CLM430760  Outpatient     2009-06-23   2009-06-23   PRV56112   \n",
       "2  BENE11007  CLM233081  Outpatient     2009-03-07   2009-03-07   PRV56979   \n",
       "3  BENE11007  CLM496381  Outpatient     2009-07-29   2009-07-29   PRV56573   \n",
       "4  BENE11007  CLM521391  Outpatient     2009-08-12   2009-08-12   PRV56573   \n",
       "\n",
       "   AmountReimbursed  Deductible  \n",
       "0                30         0.0  \n",
       "1                30         0.0  \n",
       "2               200         0.0  \n",
       "3                10         0.0  \n",
       "4                10         0.0  "
      ]
     },
     "execution_count": 101,
     "metadata": {},
     "output_type": "execute_result"
    }
   ],
   "source": [
    "# Set Type to \"Outpatient\"\n",
    "outpatient['Type'] = 'Outpatient'\n",
    "\n",
    "# Set Type to \"Inpatient\"\n",
    "inpatient['Type'] = 'Inpatient'\n",
    "\n",
    "encounter = outpatient[['BeneID', 'ClaimID', 'Type', 'ClaimStartDt', 'ClaimEndDt', 'Provider',\n",
    "            'InscClaimAmtReimbursed', 'DeductibleAmtPaid']].append(inpatient[['BeneID', 'ClaimID', 'Type', \\\n",
    "                                                                              'ClaimStartDt', 'ClaimEndDt', 'Provider',\n",
    "                                                                              'InscClaimAmtReimbursed', 'DeductibleAmtPaid']])\n",
    "\n",
    "encounter.rename(columns={'ClaimStartDt': 'ClaimStartDate', 'ClaimEndDt': 'ClaimEndDate', 'Provider': 'ProviderID',\n",
    "                         'InscClaimAmtReimbursed': 'AmountReimbursed', 'DeductibleAmtPaid': 'Deductible'}, inplace=True)\n",
    "\n",
    "encounter.head()"
   ]
  },
  {
   "cell_type": "code",
   "execution_count": 150,
   "id": "02151027",
   "metadata": {},
   "outputs": [
    {
     "name": "stdout",
     "output_type": "stream",
     "text": [
      "Number of Rows: 693603\n",
      "Unique Encounters: 693603\n"
     ]
    }
   ],
   "source": [
    "# Check for Unique Primary Key\n",
    "print(\"Number of Rows: \" + str(len(encounter)))\n",
    "print(\"Unique Encounters: \" + str(encounter.ClaimID.nunique()))"
   ]
  },
  {
   "cell_type": "code",
   "execution_count": 151,
   "id": "cdaa2da3",
   "metadata": {},
   "outputs": [],
   "source": [
    "encounter.to_csv('Encounter.csv',sep=',',index=False)"
   ]
  },
  {
   "cell_type": "code",
   "execution_count": 129,
   "id": "27bfa6e9",
   "metadata": {},
   "outputs": [],
   "source": [
    "inpatient.rename(columns={'AdmissionDt': 'AdmissionDate', 'DischargeDt': 'DischargeDate'}, inplace=True)"
   ]
  },
  {
   "cell_type": "code",
   "execution_count": 152,
   "id": "d97b6618",
   "metadata": {},
   "outputs": [
    {
     "name": "stdout",
     "output_type": "stream",
     "text": [
      "Number of Rows: 50025\n",
      "Unique Encounters: 50025\n"
     ]
    }
   ],
   "source": [
    "# Check for Unique Primary Key\n",
    "print(\"Number of Rows: \" + str(len(inpatient)))\n",
    "print(\"Unique Encounters: \" + str(inpatient.ClaimID.nunique()))"
   ]
  },
  {
   "cell_type": "code",
   "execution_count": 155,
   "id": "b6fa3670",
   "metadata": {},
   "outputs": [],
   "source": [
    "inpatient[['ClaimID','Type','AdmissionDate','DischargeDate']].to_csv('Inpatient.csv',sep=',',index=False)"
   ]
  },
  {
   "cell_type": "code",
   "execution_count": 153,
   "id": "d353912f",
   "metadata": {},
   "outputs": [
    {
     "name": "stdout",
     "output_type": "stream",
     "text": [
      "Number of Rows: 643578\n",
      "Unique Encounters: 643578\n"
     ]
    }
   ],
   "source": [
    "# Check for Unique Primary Key\n",
    "print(\"Number of Rows: \" + str(len(outpatient)))\n",
    "print(\"Unique Encounters: \" + str(outpatient.ClaimID.nunique()))"
   ]
  },
  {
   "cell_type": "code",
   "execution_count": 154,
   "id": "68000b85",
   "metadata": {},
   "outputs": [],
   "source": [
    "outpatient[['ClaimID','Type']].to_csv('Outpatient.csv',sep=',',index=False)"
   ]
  },
  {
   "cell_type": "markdown",
   "id": "8d897f20",
   "metadata": {},
   "source": [
    "# Diagnosis"
   ]
  },
  {
   "cell_type": "code",
   "execution_count": 156,
   "id": "7f98b39a",
   "metadata": {},
   "outputs": [
    {
     "name": "stdout",
     "output_type": "stream",
     "text": [
      "Number of Rows: 14653\n",
      "Unique Diagnoses: 14653\n"
     ]
    }
   ],
   "source": [
    "# Check for Unique Primary Key\n",
    "print(\"Number of Rows: \" + str(len(diagnosis)))\n",
    "print(\"Unique Diagnoses: \" + str(diagnosis.DxCode.nunique()))"
   ]
  },
  {
   "cell_type": "code",
   "execution_count": 157,
   "id": "50d236f9",
   "metadata": {},
   "outputs": [],
   "source": [
    "diagnosis.to_csv('Diagnosis.csv',sep=',',index=False)"
   ]
  },
  {
   "cell_type": "code",
   "execution_count": 125,
   "id": "d5f0610f",
   "metadata": {},
   "outputs": [
    {
     "name": "stderr",
     "output_type": "stream",
     "text": [
      "C:\\Users\\sniderc\\AppData\\Local\\Temp\\ipykernel_222648\\2751602408.py:2: FutureWarning: The frame.append method is deprecated and will be removed from pandas in a future version. Use pandas.concat instead.\n",
      "  encounter_diagnosis_wide = outpatient[['ClaimID','ClmDiagnosisCode_1', 'ClmDiagnosisCode_2', 'ClmDiagnosisCode_3',\n"
     ]
    },
    {
     "data": {
      "text/html": [
       "<div>\n",
       "<style scoped>\n",
       "    .dataframe tbody tr th:only-of-type {\n",
       "        vertical-align: middle;\n",
       "    }\n",
       "\n",
       "    .dataframe tbody tr th {\n",
       "        vertical-align: top;\n",
       "    }\n",
       "\n",
       "    .dataframe thead th {\n",
       "        text-align: right;\n",
       "    }\n",
       "</style>\n",
       "<table border=\"1\" class=\"dataframe\">\n",
       "  <thead>\n",
       "    <tr style=\"text-align: right;\">\n",
       "      <th></th>\n",
       "      <th>ClaimID</th>\n",
       "      <th>DxNum</th>\n",
       "      <th>DxCode</th>\n",
       "    </tr>\n",
       "  </thead>\n",
       "  <tbody>\n",
       "    <tr>\n",
       "      <th>0</th>\n",
       "      <td>CLM392397</td>\n",
       "      <td>1</td>\n",
       "      <td>V5832</td>\n",
       "    </tr>\n",
       "    <tr>\n",
       "      <th>1</th>\n",
       "      <td>CLM430760</td>\n",
       "      <td>1</td>\n",
       "      <td>9594</td>\n",
       "    </tr>\n",
       "    <tr>\n",
       "      <th>2</th>\n",
       "      <td>CLM233081</td>\n",
       "      <td>1</td>\n",
       "      <td>7248</td>\n",
       "    </tr>\n",
       "    <tr>\n",
       "      <th>3</th>\n",
       "      <td>CLM496381</td>\n",
       "      <td>1</td>\n",
       "      <td>58889</td>\n",
       "    </tr>\n",
       "    <tr>\n",
       "      <th>4</th>\n",
       "      <td>CLM521391</td>\n",
       "      <td>1</td>\n",
       "      <td>V666</td>\n",
       "    </tr>\n",
       "  </tbody>\n",
       "</table>\n",
       "</div>"
      ],
      "text/plain": [
       "     ClaimID DxNum DxCode\n",
       "0  CLM392397     1  V5832\n",
       "1  CLM430760     1   9594\n",
       "2  CLM233081     1   7248\n",
       "3  CLM496381     1  58889\n",
       "4  CLM521391     1   V666"
      ]
     },
     "execution_count": 125,
     "metadata": {},
     "output_type": "execute_result"
    }
   ],
   "source": [
    "# Combine outpatient and inpatient diagnoses\n",
    "encounter_diagnosis_wide = outpatient[['ClaimID','ClmDiagnosisCode_1', 'ClmDiagnosisCode_2', 'ClmDiagnosisCode_3', \n",
    "                                       'ClmDiagnosisCode_4', 'ClmDiagnosisCode_5','ClmDiagnosisCode_6', 'ClmDiagnosisCode_7', \n",
    "                                       'ClmDiagnosisCode_8', 'ClmDiagnosisCode_9', 'ClmDiagnosisCode_10']]\\\n",
    ".append(inpatient[['ClaimID','ClmDiagnosisCode_1', 'ClmDiagnosisCode_2',\n",
    "       'ClmDiagnosisCode_3', 'ClmDiagnosisCode_4', 'ClmDiagnosisCode_5',\n",
    "       'ClmDiagnosisCode_6', 'ClmDiagnosisCode_7', 'ClmDiagnosisCode_8',\n",
    "       'ClmDiagnosisCode_9', 'ClmDiagnosisCode_10']])\n",
    "\n",
    "# Transform the data \n",
    "encounter_diagnosis_long = pd.melt(encounter_diagnosis_wide, id_vars='ClaimID',\n",
    "        value_vars=['ClmDiagnosisCode_1', 'ClmDiagnosisCode_2', 'ClmDiagnosisCode_3', 'ClmDiagnosisCode_4', \n",
    "                    'ClmDiagnosisCode_5','ClmDiagnosisCode_6', 'ClmDiagnosisCode_7', 'ClmDiagnosisCode_8', \n",
    "                    'ClmDiagnosisCode_9', 'ClmDiagnosisCode_10'],\n",
    "       var_name='DxNum', value_name='DxCode')\n",
    "\n",
    "# Create the 'DxNum' variable\n",
    "encounter_diagnosis_long['DxNum'] = encounter_diagnosis_long['DxNum'].apply(lambda x: x.replace(\"ClmDiagnosisCode_\", \"\"))\n",
    "\n",
    "# Remove rows where diagnosis was not populated\n",
    "encounter_diagnosis = encounter_diagnosis_long[~encounter_diagnosis_long.DxCode.isna()]\n",
    "\n",
    "encounter_diagnosis.head()"
   ]
  },
  {
   "cell_type": "code",
   "execution_count": 162,
   "id": "7cba516c",
   "metadata": {},
   "outputs": [
    {
     "name": "stdout",
     "output_type": "stream",
     "text": [
      "Number of Rows: 2085893\n",
      "Unique Encounter Diagnoses: 2085893\n"
     ]
    }
   ],
   "source": [
    "# Check for Unique Primary Key\n",
    "print(\"Number of Rows: \" + str(len(encounter_diagnosis)))\n",
    "print(\"Unique Encounter Diagnoses: \" + str(len(encounter_diagnosis[['ClaimID','DxNum']].drop_duplicates())))"
   ]
  },
  {
   "cell_type": "code",
   "execution_count": 163,
   "id": "0b407c34",
   "metadata": {},
   "outputs": [],
   "source": [
    "encounter_diagnosis.to_csv('EncounterDiagnosis.csv',sep=',',index=False)"
   ]
  },
  {
   "cell_type": "markdown",
   "id": "78e37d30",
   "metadata": {},
   "source": [
    "# Procedure"
   ]
  },
  {
   "cell_type": "code",
   "execution_count": 160,
   "id": "b277a594",
   "metadata": {},
   "outputs": [
    {
     "name": "stdout",
     "output_type": "stream",
     "text": [
      "Number of Rows: 3809\n",
      "Unique Procedures: 3809\n"
     ]
    }
   ],
   "source": [
    "# Drop duplicate procedures \n",
    "procedure.drop_duplicates(subset=['ProcedureCode'], keep='first', inplace=True)\n",
    "\n",
    "# Check for Unique Primary Key\n",
    "print(\"Number of Rows: \" + str(len(procedure)))\n",
    "print(\"Unique Procedures: \" + str(procedure.ProcedureCode.nunique()))"
   ]
  },
  {
   "cell_type": "code",
   "execution_count": 161,
   "id": "d33d0587",
   "metadata": {},
   "outputs": [],
   "source": [
    "procedure.to_csv('Procedure.csv',sep=',',index=False)"
   ]
  },
  {
   "cell_type": "code",
   "execution_count": 127,
   "id": "40ad40bd",
   "metadata": {},
   "outputs": [
    {
     "name": "stderr",
     "output_type": "stream",
     "text": [
      "C:\\Users\\sniderc\\AppData\\Local\\Temp\\ipykernel_222648\\681076188.py:2: FutureWarning: The frame.append method is deprecated and will be removed from pandas in a future version. Use pandas.concat instead.\n",
      "  encounter_procedure_wide = outpatient[['ClaimID','ClmProcedureCode_1', 'ClmProcedureCode_2', 'ClmProcedureCode_3',\n"
     ]
    },
    {
     "data": {
      "text/html": [
       "<div>\n",
       "<style scoped>\n",
       "    .dataframe tbody tr th:only-of-type {\n",
       "        vertical-align: middle;\n",
       "    }\n",
       "\n",
       "    .dataframe tbody tr th {\n",
       "        vertical-align: top;\n",
       "    }\n",
       "\n",
       "    .dataframe thead th {\n",
       "        text-align: right;\n",
       "    }\n",
       "</style>\n",
       "<table border=\"1\" class=\"dataframe\">\n",
       "  <thead>\n",
       "    <tr style=\"text-align: right;\">\n",
       "      <th></th>\n",
       "      <th>ClaimID</th>\n",
       "      <th>ProcedureNum</th>\n",
       "      <th>ProcedureCode</th>\n",
       "    </tr>\n",
       "  </thead>\n",
       "  <tbody>\n",
       "    <tr>\n",
       "      <th>6864</th>\n",
       "      <td>CLM203794</td>\n",
       "      <td>1</td>\n",
       "      <td>9672.0</td>\n",
       "    </tr>\n",
       "    <tr>\n",
       "      <th>9238</th>\n",
       "      <td>CLM127239</td>\n",
       "      <td>1</td>\n",
       "      <td>5221.0</td>\n",
       "    </tr>\n",
       "    <tr>\n",
       "      <th>16246</th>\n",
       "      <td>CLM112459</td>\n",
       "      <td>1</td>\n",
       "      <td>7935.0</td>\n",
       "    </tr>\n",
       "    <tr>\n",
       "      <th>18072</th>\n",
       "      <td>CLM82005</td>\n",
       "      <td>1</td>\n",
       "      <td>9671.0</td>\n",
       "    </tr>\n",
       "    <tr>\n",
       "      <th>29037</th>\n",
       "      <td>CLM350592</td>\n",
       "      <td>1</td>\n",
       "      <td>3772.0</td>\n",
       "    </tr>\n",
       "  </tbody>\n",
       "</table>\n",
       "</div>"
      ],
      "text/plain": [
       "         ClaimID ProcedureNum  ProcedureCode\n",
       "6864   CLM203794            1         9672.0\n",
       "9238   CLM127239            1         5221.0\n",
       "16246  CLM112459            1         7935.0\n",
       "18072   CLM82005            1         9671.0\n",
       "29037  CLM350592            1         3772.0"
      ]
     },
     "execution_count": 127,
     "metadata": {},
     "output_type": "execute_result"
    }
   ],
   "source": [
    "# Combine outpatient and inpatient diagnoses\n",
    "encounter_procedure_wide = outpatient[['ClaimID','ClmProcedureCode_1', 'ClmProcedureCode_2', 'ClmProcedureCode_3', \n",
    "                                       'ClmProcedureCode_4', 'ClmProcedureCode_5', 'ClmProcedureCode_6']]\\\n",
    ".append(inpatient[['ClaimID','ClmProcedureCode_1', 'ClmProcedureCode_2', 'ClmProcedureCode_3', 'ClmProcedureCode_4', \n",
    "                   'ClmProcedureCode_5', 'ClmProcedureCode_6']])\n",
    "\n",
    "# Transform the data \n",
    "encounter_procedure_long = pd.melt(encounter_procedure_wide, id_vars='ClaimID',\n",
    "        value_vars=['ClmProcedureCode_1', 'ClmProcedureCode_2', 'ClmProcedureCode_3', 'ClmProcedureCode_4', \n",
    "                    'ClmProcedureCode_5', 'ClmProcedureCode_6'],\n",
    "       var_name='ProcedureNum', value_name='ProcedureCode')\n",
    "\n",
    "# Create the 'DxNum' variable\n",
    "encounter_procedure_long['ProcedureNum'] = encounter_procedure_long['ProcedureNum'].apply(lambda x: x.replace(\"ClmProcedureCode_\", \"\"))\n",
    "\n",
    "# Remove rows where procedure wasn't populated\n",
    "encounter_procedure = encounter_procedure_long[~encounter_procedure_long.ProcedureCode.isna()]\n",
    "\n",
    "encounter_procedure.head()"
   ]
  },
  {
   "cell_type": "code",
   "execution_count": 164,
   "id": "61543884",
   "metadata": {},
   "outputs": [
    {
     "name": "stdout",
     "output_type": "stream",
     "text": [
      "Number of Rows: 36882\n",
      "Unique Encounter Procedures: 36882\n"
     ]
    }
   ],
   "source": [
    "# Check for Unique Primary Key\n",
    "print(\"Number of Rows: \" + str(len(encounter_procedure)))\n",
    "print(\"Unique Encounter Procedures: \" + str(len(encounter_procedure[['ClaimID','ProcedureNum']].drop_duplicates())))"
   ]
  },
  {
   "cell_type": "code",
   "execution_count": 165,
   "id": "82104358",
   "metadata": {},
   "outputs": [],
   "source": [
    "encounter_procedure.to_csv('EncounterProcedure.csv',sep=',',index=False)"
   ]
  },
  {
   "cell_type": "code",
   "execution_count": null,
   "id": "77c71bd2",
   "metadata": {},
   "outputs": [],
   "source": []
  }
 ],
 "metadata": {
  "kernelspec": {
   "display_name": "Python 3 (ipykernel)",
   "language": "python",
   "name": "python3"
  },
  "language_info": {
   "codemirror_mode": {
    "name": "ipython",
    "version": 3
   },
   "file_extension": ".py",
   "mimetype": "text/x-python",
   "name": "python",
   "nbconvert_exporter": "python",
   "pygments_lexer": "ipython3",
   "version": "3.9.12"
  }
 },
 "nbformat": 4,
 "nbformat_minor": 5
}
